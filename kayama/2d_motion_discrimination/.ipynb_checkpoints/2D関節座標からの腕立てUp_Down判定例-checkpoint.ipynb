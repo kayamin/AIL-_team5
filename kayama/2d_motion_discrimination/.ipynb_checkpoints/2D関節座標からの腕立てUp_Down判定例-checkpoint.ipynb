{
 "cells": [
  {
   "cell_type": "markdown",
   "metadata": {},
   "source": [
    "# Open pose 出力 2D関節座標からの腕立て伏せ UP_DOWN 二値分類例"
   ]
  },
  {
   "cell_type": "markdown",
   "metadata": {},
   "source": [
    "## データの読み込み"
   ]
  },
  {
   "cell_type": "code",
   "execution_count": 3,
   "metadata": {
    "collapsed": true
   },
   "outputs": [],
   "source": [
    "import numpy as np\n",
    "import pandas as pd\n",
    "import xgboost as xgb\n",
    "\n",
    "from sklearn import preprocessing\n",
    "from sklearn.model_selection import train_test_split\n",
    "from sklearn.model_selection import cross_val_score\n"
   ]
  },
  {
   "cell_type": "code",
   "execution_count": 4,
   "metadata": {
    "collapsed": false
   },
   "outputs": [],
   "source": [
    "# COCO データセットの関節名\n",
    "# Human3.6M の関節名と統一 RAnkle -> RFoot\n",
    "# Human3.6M に含まれない？　or モデルの学習に用いていない REye.LEye,REar,LEar, Bkg等 は除かれる\n",
    "#  StackedHourglass モデルに比べて足りない点 : Head, Hip, Spine, Thorax（胸郭)\n",
    "# そもそも Stacked Hourglass は何のデータから訓練したのか? COCO を用いているのであれば同じであるべき\n",
    "\n",
    "# 役割としては  下記の対応が考えられる Hip は RHip, LHipの中間値を用いる考えも，\n",
    "# COCO : Neck < - > SH : Throax \n",
    "# COCO : Nose < - > SH : Head  \n",
    "\n",
    "#     POSE_COCO_BODY_PARTS {\n",
    "#         {0,  \"Nose\"},\n",
    "#         {1,  \"Neck\"},\n",
    "#         {2,  \"RShoulder\"},\n",
    "#         {3,  \"RElbow\"},\n",
    "#         {4,  \"RWrist\"},\n",
    "#         {5,  \"LShoulder\"},\n",
    "#         {6,  \"LElbow\"},\n",
    "#         {7,  \"LWrist\"},\n",
    "#         {8,  \"RHip\"},\n",
    "#         {9,  \"RKnee\"},\n",
    "#         {10, \"RAnkle\"},\n",
    "#         {11, \"LHip\"},\n",
    "#         {12, \"LKnee\"},\n",
    "#         {13, \"LAnkle\"},\n",
    "#         {14, \"REye\"},\n",
    "#         {15, \"LEye\"},\n",
    "#         {16, \"REar\"},\n",
    "#         {17, \"LEar\"},\n",
    "#         {18, \"Bkg\"},\n",
    "#     }\n",
    "\n",
    "COCO_NAMES = ['']*19\n",
    "COCO_NAMES[0] = 'Head'\n",
    "COCO_NAMES[1] = 'Thorax'\n",
    "COCO_NAMES[2] = 'RShoulder'\n",
    "COCO_NAMES[3] = 'RElbow'\n",
    "COCO_NAMES[4] = 'RWrist'\n",
    "COCO_NAMES[5] = 'LShoulder'\n",
    "COCO_NAMES[6] = 'LElbow'\n",
    "COCO_NAMES[7] = 'LWrist'\n",
    "COCO_NAMES[8] = 'RHip'\n",
    "COCO_NAMES[9] = 'RKnee'\n",
    "COCO_NAMES[10] = 'RFoot'\n",
    "COCO_NAMES[11] = 'LHip'\n",
    "COCO_NAMES[12] = 'LKnee'\n",
    "COCO_NAMES[13] = 'LFoot'\n",
    "COCO_NAMES[14] = 'Reye' \n",
    "COCO_NAMES[15] = 'LEye'\n",
    "COCO_NAMES[16] = 'REar'\n",
    "COCO_NAMES[17] = 'LEar'\n",
    "COCO_NAMES[18] = 'Bkg'"
   ]
  },
  {
   "cell_type": "code",
   "execution_count": null,
   "metadata": {
    "collapsed": false
   },
   "outputs": [],
   "source": [
    "# データを読み込み, 欠損データを削除, ラベルを生成,　\n",
    "df_up = pd.read_csv('./data/pose_push_ups_COCO/0_up.csv', header=None)\n",
    "df_down = pd.read_csv('./data/pose_push_ups_COCO/1_down.csv', header=None)\n",
    "\n",
    "df_up = df_up.dropna()\n",
    "df_up[0] = df_up[0].values.astype('float')\n",
    "df_up['label'] = np.zeros(df_up.shape[0])\n",
    "\n",
    "df_down = df_down.dropna()\n",
    "df_down[0] = df_down[0].values.astype('float')\n",
    "df_down['label'] = np.ones(df_down.shape[0])\n",
    "\n",
    "df = pd.concat([df_up, df_down], axis=0, ignore_index=True)\n",
    "\n",
    "train, test = train_test_split(df, test_size=0.1, random_state=12)\n",
    "\n",
    "train_x = train[train.columns[:54]]\n",
    "train_y = train['label']"
   ]
  },
  {
   "cell_type": "markdown",
   "metadata": {},
   "source": [
    "## XGBoostモデルの学習, 交差検証法で確認"
   ]
  },
  {
   "cell_type": "code",
   "execution_count": null,
   "metadata": {
    "collapsed": true
   },
   "outputs": [],
   "source": [
    "# 入力されたモデルを 交差検証法で確認する関数\n",
    "def cv(model, x, y, cv=10):\n",
    "    return np.average(cross_val_score(model, x, y, cv=10, scoring='accuracy'))"
   ]
  },
  {
   "cell_type": "code",
   "execution_count": null,
   "metadata": {
    "collapsed": false
   },
   "outputs": [],
   "source": [
    "# xgbモデルの精度を 交差検証法で確認\n",
    "xgb_model = xgb.XGBClassifier()\n",
    "xgb_cv = cv(xgb_model, train_x, train_y)\n",
    "xgb_cv"
   ]
  },
  {
   "cell_type": "code",
   "execution_count": null,
   "metadata": {
    "collapsed": false
   },
   "outputs": [],
   "source": [
    "# 上半身の値のみから モデルを学習させてみる\n",
    "\n",
    "target = ['Head', 'Thorax', 'RShoulder', 'RElbow', 'RWrist', 'LShoulder', 'LElbow', 'LWrist']\n",
    "dim_to_use_x    = np.where(np.array([name in target for name  in COCO_NAMES]))[0] * 3\n",
    "dim_to_use_y    = dim_to_use_x+1\n",
    "dim_to_use_p    = dim_to_use_x+2\n",
    "\n",
    "dim_to_use = np.zeros(len(dim_to_use_x)*3,dtype=np.int32)\n",
    "dim_to_use[0::3] = dim_to_use_x\n",
    "dim_to_use[1::3] = dim_to_use_y\n",
    "dim_to_use[2::3] = dim_to_use_p\n",
    "\n",
    "train_x_upperbody = train_x[dim_to_use]\n",
    "\n",
    "# xgbモデルの精度を 交差検証法で確認\n",
    "xgb_model = xgb.XGBClassifier()\n",
    "xgb_cv = cv(xgb_model, train_x_upperbody, train_y)\n",
    "xgb_cv"
   ]
  },
  {
   "cell_type": "code",
   "execution_count": null,
   "metadata": {
    "collapsed": false
   },
   "outputs": [],
   "source": [
    "xgb_model = xgb.XGBClassifier()\n",
    "xgb_model.fit(train_x, train_y)\n",
    "xgb_model.predict(train_x)"
   ]
  },
  {
   "cell_type": "code",
   "execution_count": null,
   "metadata": {
    "collapsed": false
   },
   "outputs": [],
   "source": [
    "cross_val_score(xgb_model, train_x,train_y, cv=10, scoring='accuracy')"
   ]
  },
  {
   "cell_type": "code",
   "execution_count": null,
   "metadata": {
    "collapsed": true
   },
   "outputs": [],
   "source": []
  }
 ],
 "metadata": {
  "kernelspec": {
   "display_name": "Python 3",
   "language": "python",
   "name": "python3"
  },
  "language_info": {
   "codemirror_mode": {
    "name": "ipython",
    "version": 3
   },
   "file_extension": ".py",
   "mimetype": "text/x-python",
   "name": "python",
   "nbconvert_exporter": "python",
   "pygments_lexer": "ipython3",
   "version": "3.6.1"
  }
 },
 "nbformat": 4,
 "nbformat_minor": 2
}
