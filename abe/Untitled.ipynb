{
 "cells": [
  {
   "cell_type": "code",
   "execution_count": 1,
   "metadata": {
    "collapsed": true
   },
   "outputs": [],
   "source": [
    "import numpy as np"
   ]
  },
  {
   "cell_type": "code",
   "execution_count": 3,
   "metadata": {},
   "outputs": [
    {
     "data": {
      "text/plain": [
       "array([[[ 0,  1],\n",
       "        [ 2,  3],\n",
       "        [ 4,  5]],\n",
       "\n",
       "       [[ 6,  7],\n",
       "        [ 8,  9],\n",
       "        [10, 11]],\n",
       "\n",
       "       [[12, 13],\n",
       "        [14, 15],\n",
       "        [16, 17]],\n",
       "\n",
       "       [[18, 19],\n",
       "        [20, 21],\n",
       "        [22, 23]]])"
      ]
     },
     "execution_count": 3,
     "metadata": {},
     "output_type": "execute_result"
    }
   ],
   "source": [
    "n, m, l = 4, 3, 2\n",
    "a = np.arange(n*m*l).reshape(n, m, l)\n",
    "a"
   ]
  },
  {
   "cell_type": "code",
   "execution_count": 14,
   "metadata": {},
   "outputs": [
    {
     "data": {
      "text/plain": [
       "array([[   1,   13,   41],\n",
       "       [  85,  145,  221],\n",
       "       [ 313,  421,  545],\n",
       "       [ 685,  841, 1013]])"
      ]
     },
     "execution_count": 14,
     "metadata": {},
     "output_type": "execute_result"
    }
   ],
   "source": [
    "b = np.sum(a**2, axis=2)\n",
    "b"
   ]
  },
  {
   "cell_type": "code",
   "execution_count": 20,
   "metadata": {},
   "outputs": [
    {
     "name": "stdout",
     "output_type": "stream",
     "text": [
      "[[[   1    1    1]\n",
      "  [  13   13   13]\n",
      "  [  41   41   41]]\n",
      "\n",
      " [[  85   85   85]\n",
      "  [ 145  145  145]\n",
      "  [ 221  221  221]]\n",
      "\n",
      " [[ 313  313  313]\n",
      "  [ 421  421  421]\n",
      "  [ 545  545  545]]\n",
      "\n",
      " [[ 685  685  685]\n",
      "  [ 841  841  841]\n",
      "  [1013 1013 1013]]]\n",
      "[[[   1   13   41]\n",
      "  [   1   13   41]\n",
      "  [   1   13   41]]\n",
      "\n",
      " [[  85  145  221]\n",
      "  [  85  145  221]\n",
      "  [  85  145  221]]\n",
      "\n",
      " [[ 313  421  545]\n",
      "  [ 313  421  545]\n",
      "  [ 313  421  545]]\n",
      "\n",
      " [[ 685  841 1013]\n",
      "  [ 685  841 1013]\n",
      "  [ 685  841 1013]]]\n"
     ]
    }
   ],
   "source": [
    "c = np.repeat(b[:, :, np.newaxis], 3, axis=2)\n",
    "d = np.transpose(c, (0, 2, 1))\n",
    "print(c)\n",
    "print(d)"
   ]
  },
  {
   "cell_type": "code",
   "execution_count": 22,
   "metadata": {},
   "outputs": [
    {
     "data": {
      "text/plain": [
       "array([[ 1,  3,  5],\n",
       "       [ 3, 13, 23],\n",
       "       [ 5, 23, 41]])"
      ]
     },
     "execution_count": 22,
     "metadata": {},
     "output_type": "execute_result"
    }
   ],
   "source": [
    "a[0] @ a[0].T"
   ]
  },
  {
   "cell_type": "code",
   "execution_count": 25,
   "metadata": {},
   "outputs": [],
   "source": [
    "e = np.einsum(\"ijk,ilk->ijl\", a, a)"
   ]
  },
  {
   "cell_type": "code",
   "execution_count": 28,
   "metadata": {},
   "outputs": [
    {
     "data": {
      "text/plain": [
       "array([[[ 0,  8, 32],\n",
       "        [ 8,  0,  8],\n",
       "        [32,  8,  0]],\n",
       "\n",
       "       [[ 0,  8, 32],\n",
       "        [ 8,  0,  8],\n",
       "        [32,  8,  0]],\n",
       "\n",
       "       [[ 0,  8, 32],\n",
       "        [ 8,  0,  8],\n",
       "        [32,  8,  0]],\n",
       "\n",
       "       [[ 0,  8, 32],\n",
       "        [ 8,  0,  8],\n",
       "        [32,  8,  0]]])"
      ]
     },
     "execution_count": 28,
     "metadata": {},
     "output_type": "execute_result"
    }
   ],
   "source": [
    "f = c - 2*e + d\n",
    "f"
   ]
  },
  {
   "cell_type": "code",
   "execution_count": 64,
   "metadata": {},
   "outputs": [
    {
     "name": "stdout",
     "output_type": "stream",
     "text": [
      "[0 0 1]\n"
     ]
    },
    {
     "data": {
      "text/plain": [
       "(array([0, 0, 0, 1, 1, 1, 2, 2, 2, 3, 3, 3]),\n",
       " array([0, 0, 1, 0, 0, 1, 0, 0, 1, 0, 0, 1]),\n",
       " array([1, 2, 2, 1, 2, 2, 1, 2, 2, 1, 2, 2]))"
      ]
     },
     "execution_count": 64,
     "metadata": {},
     "output_type": "execute_result"
    }
   ],
   "source": [
    "tmp1, tmp2 = np.triu_indices(3, k=1)\n",
    "print(tmp1)\n",
    "i = np.repeat(np.arange(4), [3]), np.tile(tmp1, 4), np.tile(tmp2, 4)\n",
    "i"
   ]
  },
  {
   "cell_type": "code",
   "execution_count": 59,
   "metadata": {},
   "outputs": [
    {
     "data": {
      "text/plain": [
       "(array([0, 0, 1]), array([1, 2, 2]))"
      ]
     },
     "execution_count": 59,
     "metadata": {},
     "output_type": "execute_result"
    }
   ],
   "source": [
    "np.triu_indices(3, k=1)"
   ]
  },
  {
   "cell_type": "code",
   "execution_count": 60,
   "metadata": {},
   "outputs": [
    {
     "data": {
      "text/plain": [
       "array([[ 8,  0,  8],\n",
       "       [32,  8,  0],\n",
       "       [32,  8,  0]])"
      ]
     },
     "execution_count": 60,
     "metadata": {},
     "output_type": "execute_result"
    }
   ],
   "source": [
    "f[np.triu_indices(3, k=1)]"
   ]
  },
  {
   "cell_type": "code",
   "execution_count": 61,
   "metadata": {},
   "outputs": [
    {
     "data": {
      "text/plain": [
       "array([[[ 0,  8, 32],\n",
       "        [ 8,  0,  8],\n",
       "        [32,  8,  0]],\n",
       "\n",
       "       [[ 0,  8, 32],\n",
       "        [ 8,  0,  8],\n",
       "        [32,  8,  0]],\n",
       "\n",
       "       [[ 0,  8, 32],\n",
       "        [ 8,  0,  8],\n",
       "        [32,  8,  0]],\n",
       "\n",
       "       [[ 0,  8, 32],\n",
       "        [ 8,  0,  8],\n",
       "        [32,  8,  0]]])"
      ]
     },
     "execution_count": 61,
     "metadata": {},
     "output_type": "execute_result"
    }
   ],
   "source": [
    "f"
   ]
  },
  {
   "cell_type": "code",
   "execution_count": 66,
   "metadata": {},
   "outputs": [
    {
     "data": {
      "text/plain": [
       "array([[ 8, 32,  8],\n",
       "       [ 8, 32,  8],\n",
       "       [ 8, 32,  8],\n",
       "       [ 8, 32,  8]])"
      ]
     },
     "execution_count": 66,
     "metadata": {},
     "output_type": "execute_result"
    }
   ],
   "source": [
    "f[i].reshape(4, 3*2//2)"
   ]
  },
  {
   "cell_type": "code",
   "execution_count": 34,
   "metadata": {},
   "outputs": [
    {
     "data": {
      "text/plain": [
       "array([[[[ 0,  8, 32],\n",
       "         [ 0,  8, 32],\n",
       "         [ 8,  0,  8]],\n",
       "\n",
       "        [[ 8,  0,  8],\n",
       "         [32,  8,  0],\n",
       "         [32,  8,  0]]],\n",
       "\n",
       "\n",
       "       [[[ 0,  8, 32],\n",
       "         [ 0,  8, 32],\n",
       "         [ 8,  0,  8]],\n",
       "\n",
       "        [[ 8,  0,  8],\n",
       "         [32,  8,  0],\n",
       "         [32,  8,  0]]],\n",
       "\n",
       "\n",
       "       [[[ 0,  8, 32],\n",
       "         [ 0,  8, 32],\n",
       "         [ 8,  0,  8]],\n",
       "\n",
       "        [[ 8,  0,  8],\n",
       "         [32,  8,  0],\n",
       "         [32,  8,  0]]],\n",
       "\n",
       "\n",
       "       [[[ 0,  8, 32],\n",
       "         [ 0,  8, 32],\n",
       "         [ 8,  0,  8]],\n",
       "\n",
       "        [[ 8,  0,  8],\n",
       "         [32,  8,  0],\n",
       "         [32,  8,  0]]]])"
      ]
     },
     "execution_count": 34,
     "metadata": {},
     "output_type": "execute_result"
    }
   ],
   "source": [
    "f[, np.triu_indices(3, k=1)]"
   ]
  },
  {
   "cell_type": "code",
   "execution_count": null,
   "metadata": {
    "collapsed": true
   },
   "outputs": [],
   "source": []
  }
 ],
 "metadata": {
  "kernelspec": {
   "display_name": "Python 3",
   "language": "python",
   "name": "python3"
  },
  "language_info": {
   "codemirror_mode": {
    "name": "ipython",
    "version": 3
   },
   "file_extension": ".py",
   "mimetype": "text/x-python",
   "name": "python",
   "nbconvert_exporter": "python",
   "pygments_lexer": "ipython3",
   "version": "3.6.1"
  }
 },
 "nbformat": 4,
 "nbformat_minor": 2
}
