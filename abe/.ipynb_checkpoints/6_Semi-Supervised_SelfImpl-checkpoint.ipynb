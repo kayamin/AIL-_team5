{
 "cells": [
  {
   "cell_type": "code",
   "execution_count": 1,
   "metadata": {
    "collapsed": true
   },
   "outputs": [],
   "source": [
    "import numpy as np"
   ]
  },
  {
   "cell_type": "markdown",
   "metadata": {
    "collapsed": true
   },
   "source": [
    "https://github.com/scikit-learn/scikit-learn/blob/a24c8b46/sklearn/semi_supervised/label_propagation.py#L415"
   ]
  },
  {
   "cell_type": "code",
   "execution_count": 16,
   "metadata": {
    "collapsed": true
   },
   "outputs": [],
   "source": [
    "from sklearn.metrics.pairwise import rbf_kernel\n",
    "\n",
    "def distance(X):\n",
    "    '''\n",
    "    (n_samples, n_dimension)\n",
    "    '''\n",
    "    n = X.shape[0]\n",
    "    sq = np.sum(X*X, axis=1, keepdims=True)\n",
    "    ip = np.matmul(X, X.T)\n",
    "    return sq - 2*ip + sq.T\n",
    "\n",
    "def _get_kernel_original(X, gamma):\n",
    "    return rbf_kernel(X, X, gamma=gamma)\n",
    "    \n",
    "def _get_kernel(X, gamma):\n",
    "    return np.exp(-gamma*distance(X))"
   ]
  },
  {
   "cell_type": "code",
   "execution_count": 17,
   "metadata": {
    "collapsed": true
   },
   "outputs": [],
   "source": [
    "X = np.random.randn(100, 2)\n",
    "n_samples = X.shape[0]"
   ]
  },
  {
   "cell_type": "code",
   "execution_count": 18,
   "metadata": {},
   "outputs": [
    {
     "data": {
      "text/plain": [
       "8.8817841970012523e-16"
      ]
     },
     "execution_count": 18,
     "metadata": {},
     "output_type": "execute_result"
    }
   ],
   "source": [
    "affinity_matrix = _get_kernel(X, .5)\n",
    "affinity_matrix_original = _get_kernel_original(X, .5)\n",
    "np.max(np.abs(affinity_matrix - affinity_matrix_original))"
   ]
  },
  {
   "cell_type": "markdown",
   "metadata": {},
   "source": [
    "### Laplacian"
   ]
  },
  {
   "cell_type": "code",
   "execution_count": 32,
   "metadata": {},
   "outputs": [],
   "source": [
    "from scipy import sparse\n",
    "\n",
    "def calc_laplacian_org(a):\n",
    "    # a: affinity_matrix\n",
    "    return sparse.csgraph.laplacian(a)\n",
    "\n",
    "def _setdiag_dense(A, d):\n",
    "    A.flat[::len(d)+1] = d\n",
    "\n",
    "def calc_laplacian(a, normed=True, axis=0):\n",
    "    # a: affinity_matrix\n",
    "    m = np.array(a)\n",
    "    np.fill_diagonal(m, 0)\n",
    "    w = m.sum(axis=axis)\n",
    "    if normed:\n",
    "        isolated_node_mask = (w == 0)\n",
    "        w = np.where(isolated_node_mask, 1, np.sqrt(w))\n",
    "        m /= w\n",
    "        m /= w[:, np.newaxis]\n",
    "        m *= -1\n",
    "        _setdiag_dense(m, 1 - isolated_node_mask)\n",
    "    else:\n",
    "        m *= -1\n",
    "        _setdiag_dense(m, w)\n",
    "    return m, w"
   ]
  },
  {
   "cell_type": "code",
   "execution_count": 31,
   "metadata": {},
   "outputs": [
    {
     "data": {
      "text/plain": [
       "<numpy.flatiter at 0x7ffb709a3c00>"
      ]
     },
     "execution_count": 31,
     "metadata": {},
     "output_type": "execute_result"
    }
   ],
   "source": [
    "a.flat"
   ]
  },
  {
   "cell_type": "code",
   "execution_count": 24,
   "metadata": {},
   "outputs": [],
   "source": [
    "normed, axis = True, 0\n",
    "a = affinity_matrix\n",
    "m = np.array(a)\n",
    "np.fill_diagonal(m, 0)\n",
    "w = m.sum(axis=axis)"
   ]
  },
  {
   "cell_type": "code",
   "execution_count": 29,
   "metadata": {},
   "outputs": [
    {
     "name": "stdout",
     "output_type": "stream",
     "text": [
      "[ 34.06651156  16.04365605  31.99603318  20.25463535  30.22510742\n",
      "  43.33474011  39.2208397   38.06556174  22.33948996  41.40793792\n",
      "  42.44712837   6.51653675  42.35890403  23.15203375  25.42831034\n",
      "  17.56336603  31.45839927  42.42982553  40.94333541  37.32726685\n",
      "  10.13245655  45.58599694  32.35247734  31.59603595  36.26874225\n",
      "  18.74309612  21.61468269  20.06325467  30.24735502  30.50727388\n",
      "  33.99298414  33.05665507  44.90742273  35.12307975  20.17305324\n",
      "  31.1484375   32.48414087  29.60845707  34.78775311  37.62847903\n",
      "  32.69687364  21.36011773  15.43749729  22.7480963   43.34949748\n",
      "  38.61095532  19.82199847  34.77987545  44.29287868  35.63579441\n",
      "  10.82156434  12.88021138  33.99953543  13.84424275  33.3634214\n",
      "  34.48281601  18.1031756   41.69493223   7.880484    38.90209337\n",
      "  32.28985141  14.71479828  22.082929    41.75845544  28.40343007\n",
      "  26.84999134  39.28505495  38.12772849  24.44649382  35.0699201\n",
      "  32.38146329  40.06860943  44.75225049  12.07152322  42.53273668\n",
      "  37.94108019  30.48498402  33.63304366  40.56972155  38.94863161\n",
      "  11.82057863  35.95972111  28.05827151  32.36703828  35.89580628\n",
      "  27.95354464   9.90490326  31.5624255    5.28510653  45.11711827\n",
      "  32.10856048  16.30392944  45.15088848  38.20717803  40.37543383\n",
      "  39.68456065  22.91171682  45.16923354  44.50781118  20.51758941]\n",
      "[ True  True  True  True  True  True  True  True  True  True  True  True\n",
      "  True  True  True  True  True  True  True  True  True  True  True  True\n",
      "  True  True  True  True  True  True  True  True  True  True  True  True\n",
      "  True  True  True  True  True  True  True  True  True  True  True  True\n",
      "  True  True  True  True  True  True  True  True  True  True  True  True\n",
      "  True  True  True  True  True  True  True  True  True  True  True  True\n",
      "  True  True  True  True  True  True  True  True  True  True  True  True\n",
      "  True  True  True  True  True  True  True  True  True  True  True  True\n",
      "  True  True  True  True]\n"
     ]
    }
   ],
   "source": [
    "print(w)\n",
    "print(np.where(w == 0, 1, np.sqrt(w)))"
   ]
  },
  {
   "cell_type": "code",
   "execution_count": 33,
   "metadata": {},
   "outputs": [
    {
     "data": {
      "text/plain": [
       "array([[  3.40665116e+01,  -6.06666057e-03,  -1.65622677e-01, ...,\n",
       "         -5.39927843e-01,  -5.70250882e-01,  -2.01995747e-02],\n",
       "       [ -6.06666057e-03,   1.60436560e+01,  -3.68560260e-02, ...,\n",
       "         -7.33212777e-02,  -9.97252021e-02,  -4.48641862e-01],\n",
       "       [ -1.65622677e-01,  -3.68560260e-02,   3.19960332e+01, ...,\n",
       "         -6.05464885e-01,  -2.53805171e-01,  -1.13097246e-02],\n",
       "       ..., \n",
       "       [ -5.39927843e-01,  -7.33212777e-02,  -6.05464885e-01, ...,\n",
       "          4.51692335e+01,  -7.99366787e-01,  -7.36257684e-02],\n",
       "       [ -5.70250882e-01,  -9.97252021e-02,  -2.53805171e-01, ...,\n",
       "         -7.99366787e-01,   4.45078112e+01,  -1.97900469e-01],\n",
       "       [ -2.01995747e-02,  -4.48641862e-01,  -1.13097246e-02, ...,\n",
       "         -7.36257684e-02,  -1.97900469e-01,   2.05175894e+01]])"
      ]
     },
     "execution_count": 33,
     "metadata": {},
     "output_type": "execute_result"
    }
   ],
   "source": [
    "calc_laplacian_org(a)"
   ]
  },
  {
   "cell_type": "code",
   "execution_count": 38,
   "metadata": {},
   "outputs": [
    {
     "data": {
      "text/plain": [
       "array([100,   1,   2,   3, 100,   5,   6,   7, 100,   9])"
      ]
     },
     "execution_count": 38,
     "metadata": {},
     "output_type": "execute_result"
    }
   ],
   "source": [
    "b = np.arange(10)\n",
    "c = np.ones(3)*100\n",
    "b[::len(c)+1] = c\n",
    "b"
   ]
  },
  {
   "cell_type": "code",
   "execution_count": null,
   "metadata": {
    "collapsed": true
   },
   "outputs": [],
   "source": []
  }
 ],
 "metadata": {
  "kernelspec": {
   "display_name": "Python 3",
   "language": "python",
   "name": "python3"
  },
  "language_info": {
   "codemirror_mode": {
    "name": "ipython",
    "version": 3
   },
   "file_extension": ".py",
   "mimetype": "text/x-python",
   "name": "python",
   "nbconvert_exporter": "python",
   "pygments_lexer": "ipython3",
   "version": "3.6.1"
  }
 },
 "nbformat": 4,
 "nbformat_minor": 2
}
